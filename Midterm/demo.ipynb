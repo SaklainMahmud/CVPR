{
 "cells": [
  {
   "cell_type": "markdown",
   "id": "726a2834",
   "metadata": {},
   "source": [
    "Demo File"
   ]
  },
  {
   "cell_type": "code",
   "execution_count": 20,
   "id": "72dd64fa",
   "metadata": {},
   "outputs": [],
   "source": [
    "import cv2\n",
    "import numpy as np\n",
    "from tensorflow.keras.models import load_model\n",
    "import time"
   ]
  },
  {
   "cell_type": "code",
   "execution_count": 21,
   "id": "0acf28f2",
   "metadata": {},
   "outputs": [
    {
     "name": "stderr",
     "output_type": "stream",
     "text": [
      "WARNING:absl:Compiled the loaded model, but the compiled metrics have yet to be built. `model.compile_metrics` will be empty until you train or evaluate the model.\n"
     ]
    },
    {
     "name": "stdout",
     "output_type": "stream",
     "text": [
      "Model loaded successfully!\n"
     ]
    }
   ],
   "source": [
    "# 1. Load the trained model\n",
    "model = load_model(\"mnist_model.h5\")\n",
    "print(\"Model loaded successfully!\")"
   ]
  },
  {
   "cell_type": "code",
   "execution_count": 22,
   "id": "5ede5341",
   "metadata": {},
   "outputs": [
    {
     "name": "stdout",
     "output_type": "stream",
     "text": [
      "Camera on. Press 'x' to turn off.\n",
      "Detection stopped.\n"
     ]
    }
   ],
   "source": [
    "camera = cv2.VideoCapture(0)\n",
    "if not camera.isOpened():\n",
    "    print(\"Can not open webcam\")\n",
    "    exit()\n",
    "\n",
    "print(\"Camera on. Press 'x' to turn off.\")\n",
    "\n",
    "prev_time = time.time()\n",
    "\n",
    "while True:\n",
    "    ret, frame = camera.read()\n",
    "    if not ret:\n",
    "        print(\"Failed to capture frame\")\n",
    "        break\n",
    "\n",
    "    h, w, _ = frame.shape\n",
    "    box_size = min(h, w) // 2\n",
    "    x1, y1 = w//2 - box_size//2, h//2 - box_size//2\n",
    "    x2, y2 = x1 + box_size, y1 + box_size\n",
    "\n",
    "    cv2.rectangle(frame, (x1, y1), (x2, y2), (0, 200, 0), 2)\n",
    "\n",
    "    roi = frame[y1:y2, x1:x2]\n",
    "    gray = cv2.cvtColor(roi, cv2.COLOR_BGR2GRAY)\n",
    "    resized = cv2.resize(gray, (28, 28))\n",
    "    normalized = resized.astype(\"float32\") / 255.0\n",
    "    processed_input = np.expand_dims(normalized, axis=(0, -1))\n",
    "\n",
    "    # Predict digit\n",
    "    prediction = model.predict(processed_input, verbose=0)\n",
    "    predicted_digit = np.argmax(prediction)\n",
    "    confidence = np.max(prediction)\n",
    "\n",
    "    # Display result\n",
    "    text = f\"Digit: {predicted_digit} ({confidence:.2f})\"\n",
    "    cv2.putText(frame, text, (40, 70), cv2.FONT_HERSHEY_SIMPLEX,\n",
    "                1.2, (0, 255, 0), 3)\n",
    "\n",
    "    cv2.imshow(\"MNIST Digit Recognition\", frame)\n",
    "\n",
    "    if cv2.waitKey(1) & 0xFF == ord('x'):\n",
    "        break\n",
    "\n",
    "camera.release()\n",
    "cv2.destroyAllWindows()\n",
    "print(\"Detection stopped.\")"
   ]
  }
 ],
 "metadata": {
  "kernelspec": {
   "display_name": "Python 3",
   "language": "python",
   "name": "python3"
  },
  "language_info": {
   "codemirror_mode": {
    "name": "ipython",
    "version": 3
   },
   "file_extension": ".py",
   "mimetype": "text/x-python",
   "name": "python",
   "nbconvert_exporter": "python",
   "pygments_lexer": "ipython3",
   "version": "3.13.1"
  }
 },
 "nbformat": 4,
 "nbformat_minor": 5
}
